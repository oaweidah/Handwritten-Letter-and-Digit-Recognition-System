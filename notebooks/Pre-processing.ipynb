{
 "cells": [
  {
   "cell_type": "code",
   "execution_count": 1,
   "metadata": {
    "executionInfo": {
     "elapsed": 5861,
     "status": "ok",
     "timestamp": 1635993733481,
     "user": {
      "displayName": "Sineth Bandara",
      "photoUrl": "https://lh3.googleusercontent.com/a-/AOh14GhKdq8bhCUpgQ-7MzvdaGUCoDrG8IEInhYwzCJC=s64",
      "userId": "02739801178643177334"
     },
     "user_tz": -330
    },
    "id": "pkvWpqRd2qNo"
   },
   "outputs": [],
   "source": [
    "# Import Statements\n",
    "import cv2\n",
    "import pandas as pd\n",
    "import numpy as np\n",
    "from keras.datasets import mnist\n",
    "from keras.utils import np_utils\n",
    "from sklearn.model_selection import train_test_split\n",
    "from matplotlib import pyplot as plt"
   ]
  },
  {
   "cell_type": "code",
   "execution_count": 2,
   "metadata": {},
   "outputs": [],
   "source": [
    "# This code is meant to simply combine the 2 datasets (Capital Letters and numbers)\n",
    "# and separate them as test and training data (25% Testing data 75% Training)\n",
    "# Also prepares them for the Neural Newtork (tags etc)\n",
    "\n",
    "# Loading, Reading and Converting letters to Float32\n",
    "letters = pd.read_csv(\"../dataset/A_Z Handwritten Data.csv\").astype(\"float32\")\n",
    "# According to site, first column is a tag (What is showing letter A,B,C etc)\n",
    "letters_1 = letters.drop(\"0\", axis=1).values\n",
    "letters_2 = letters[\"0\"]"
   ]
  },
  {
   "cell_type": "code",
   "execution_count": 2,
   "metadata": {},
   "outputs": [],
   "source": [
    "# Normalizing data + add to 4D tensor\n",
    "letter_data = letters_1.reshape(-1, 28, 28, 1) / 255.0"
   ]
  },
  {
   "cell_type": "code",
   "execution_count": 2,
   "metadata": {},
   "outputs": [],
   "source": [
    "# Loading digit dataset (MNIST)\n",
    "(digits_training1, digits_training2), (digits_testing1, digits_testing2) = mnist.load_data()\n",
    "\n",
    "digits = np.concatenate((digits_training1, digits_testing1)).reshape(-1, 28, 28, 1) / 255.0"
   ]
  },
  {
   "cell_type": "code",
   "execution_count": 2,
   "metadata": {},
   "outputs": [],
   "source": [
    "# Since there are 26 letters (0-25) we add 26 so we make sure the digits come after\n",
    "move_digits_to = np.concatenate((digits_training2, digits_testing2)) +26"
   ]
  },
  {
   "cell_type": "code",
   "execution_count": 2,
   "metadata": {},
   "outputs": [],
   "source": [
    "# Combining datasets\n",
    "data = np.concatenate((digits, letter_data))\n",
    "go_to = np.concatenate((move_digits_to, letters_2))"
   ]
  },
  {
   "cell_type": "code",
   "execution_count": 2,
   "metadata": {},
   "outputs": [],
   "source": [
    "# Splitting into training and testing sets\n",
    "training_data, testing_data, training_tags, testing_tags = train_test_split(data, go_to, test_size=0.25)"
   ]
  },
  {
   "cell_type": "code",
   "execution_count": 2,
   "metadata": {},
   "outputs": [],
   "source": [
    "# Normalizing data\n",
    "testing_data = testing_data / 255.0\n",
    "training_data = training_data / 255.0"
   ]
  },
  {
   "cell_type": "code",
   "execution_count": 2,
   "metadata": {},
   "outputs": [],
   "source": [
    "# Converting tags to one-hot-encoded format\n",
    "training_tags = np_utils.to_categorical(training_tags)\n",
    "testing_tags = np_utils.to_categorical(testing_tags)"
   ]
  },
  {
   "cell_type": "code",
   "execution_count": 2,
   "metadata": {},
   "outputs": [],
   "source": [
    "# Saving numpy arrays for later\n",
    "np.save(\"../numpy/training_data\", training_data)\n",
    "np.save(\"../numpy/training_tags\", training_tags)\n",
    "np.save(\"../numpy/testing_data\", testing_data)\n",
    "np.save(\"../numpy/testing_tags\", testing_tags)"
   ]
  }
 ],
 "metadata": {
  "colab": {
   "authorship_tag": "ABX9TyMDNLRfnrT0xlvbfrxNekwE",
   "collapsed_sections": [],
   "mount_file_id": "1fSqc6idtNC-JooX1B-t3WwbT9mij775P",
   "name": "Data Preprocessing.ipynb",
   "provenance": []
  },
  "kernelspec": {
   "display_name": "Python 3 (ipykernel)",
   "language": "python",
   "name": "python3"
  },
  "language_info": {
   "codemirror_mode": {
    "name": "ipython",
    "version": 3
   },
   "file_extension": ".py",
   "mimetype": "text/x-python",
   "name": "python",
   "nbconvert_exporter": "python",
   "pygments_lexer": "ipython3",
   "version": "3.9.12"
  }
 },
 "nbformat": 4,
 "nbformat_minor": 4
}
